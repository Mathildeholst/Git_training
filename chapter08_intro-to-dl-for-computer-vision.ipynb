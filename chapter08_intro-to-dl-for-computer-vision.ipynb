{
  "cells": [
    {
      "cell_type": "markdown",
      "metadata": {
        "id": "view-in-github",
        "colab_type": "text"
      },
      "source": [
        "<a href=\"https://colab.research.google.com/github/Mathildeholst/Git_training/blob/main/chapter08_intro-to-dl-for-computer-vision.ipynb\" target=\"_parent\"><img src=\"https://colab.research.google.com/assets/colab-badge.svg\" alt=\"Open In Colab\"/></a>"
      ]
    },
    {
      "cell_type": "markdown",
      "metadata": {
        "id": "jGlj2XbPIxio"
      },
      "source": [
        "This is a companion notebook for the book [Deep Learning with Python, Second Edition](https://www.manning.com/books/deep-learning-with-python-second-edition?a_aid=keras&a_bid=76564dff). For readability, it only contains runnable code blocks and section titles, and omits everything else in the book: text paragraphs, figures, and pseudocode.\n",
        "\n",
        "**If you want to be able to follow what's going on, I recommend reading the notebook side by side with your copy of the book.**\n",
        "\n",
        "This notebook was generated for TensorFlow 2.6."
      ]
    },
    {
      "cell_type": "markdown",
      "metadata": {
        "id": "kRSmL3PiIxip"
      },
      "source": [
        "# Introduction to deep learning for computer vision"
      ]
    },
    {
      "cell_type": "markdown",
      "metadata": {
        "id": "oSTt0fw9Ixip"
      },
      "source": [
        "## Introduction to convnets"
      ]
    },
    {
      "cell_type": "markdown",
      "metadata": {
        "id": "srZQD_chIxip"
      },
      "source": [
        "**Instantiating a small convnet**"
      ]
    },
    {
      "cell_type": "code",
      "execution_count": 1,
      "metadata": {
        "id": "WcQNCFHCIxip"
      },
      "outputs": [],
      "source": [
        "from tensorflow import keras\n",
        "from tensorflow.keras import layers\n",
        "inputs = keras.Input(shape=(28, 28, 1))\n",
        "x = layers.Conv2D(filters=32, kernel_size=3, activation=\"relu\")(inputs)\n",
        "x = layers.MaxPooling2D(pool_size=2)(x)\n",
        "x = layers.Conv2D(filters=64, kernel_size=3, activation=\"relu\")(x)\n",
        "x = layers.MaxPooling2D(pool_size=2)(x)\n",
        "x = layers.Conv2D(filters=128, kernel_size=3, activation=\"relu\")(x)\n",
        "x = layers.Flatten()(x)\n",
        "outputs = layers.Dense(10, activation=\"softmax\")(x)\n",
        "model = keras.Model(inputs=inputs, outputs=outputs)"
      ]
    },
    {
      "cell_type": "markdown",
      "source": [
        "* Input: Takes a 28×28 grayscale image.\n",
        "\n",
        "* Conv2D (gråtone) + ReLU: Detects features using 3×3 filters (first with 32, then 64, then 128 filters).\n",
        "\n",
        "* MaxPooling2D: Reduces image size (2×2).\n",
        "\n",
        "* Flatten: Turns the final feature map into a 1D vector.\n",
        "\n",
        "* Dense + Softmax: Outputs probabilities for 10 classes (like digits 0–9).\n",
        "\n",
        "kernel_size=3 means the filter looks at a small 3x3 area of the image at a time.\n",
        "\n",
        "So instead of looking at the whole image, the model looks at small parts (like little windows) to find patterns like edges or shapes.\n"
      ],
      "metadata": {
        "id": "rC9NH7nQKTJN"
      }
    },
    {
      "cell_type": "markdown",
      "metadata": {
        "id": "7iMHuhxrIxiq"
      },
      "source": [
        "**Displaying the model's summary**"
      ]
    },
    {
      "cell_type": "code",
      "execution_count": 2,
      "metadata": {
        "id": "eYp3NdYkIxiq",
        "outputId": "42a8f2f2-9200-4cd8-9136-1bbf3cec58b7",
        "colab": {
          "base_uri": "https://localhost:8080/",
          "height": 388
        }
      },
      "outputs": [
        {
          "output_type": "display_data",
          "data": {
            "text/plain": [
              "\u001b[1mModel: \"functional\"\u001b[0m\n"
            ],
            "text/html": [
              "<pre style=\"white-space:pre;overflow-x:auto;line-height:normal;font-family:Menlo,'DejaVu Sans Mono',consolas,'Courier New',monospace\"><span style=\"font-weight: bold\">Model: \"functional\"</span>\n",
              "</pre>\n"
            ]
          },
          "metadata": {}
        },
        {
          "output_type": "display_data",
          "data": {
            "text/plain": [
              "┏━━━━━━━━━━━━━━━━━━━━━━━━━━━━━━━━━━━━━━┳━━━━━━━━━━━━━━━━━━━━━━━━━━━━━┳━━━━━━━━━━━━━━━━━┓\n",
              "┃\u001b[1m \u001b[0m\u001b[1mLayer (type)                        \u001b[0m\u001b[1m \u001b[0m┃\u001b[1m \u001b[0m\u001b[1mOutput Shape               \u001b[0m\u001b[1m \u001b[0m┃\u001b[1m \u001b[0m\u001b[1m        Param #\u001b[0m\u001b[1m \u001b[0m┃\n",
              "┡━━━━━━━━━━━━━━━━━━━━━━━━━━━━━━━━━━━━━━╇━━━━━━━━━━━━━━━━━━━━━━━━━━━━━╇━━━━━━━━━━━━━━━━━┩\n",
              "│ input_layer (\u001b[38;5;33mInputLayer\u001b[0m)             │ (\u001b[38;5;45mNone\u001b[0m, \u001b[38;5;34m28\u001b[0m, \u001b[38;5;34m28\u001b[0m, \u001b[38;5;34m1\u001b[0m)           │               \u001b[38;5;34m0\u001b[0m │\n",
              "├──────────────────────────────────────┼─────────────────────────────┼─────────────────┤\n",
              "│ conv2d (\u001b[38;5;33mConv2D\u001b[0m)                      │ (\u001b[38;5;45mNone\u001b[0m, \u001b[38;5;34m26\u001b[0m, \u001b[38;5;34m26\u001b[0m, \u001b[38;5;34m32\u001b[0m)          │             \u001b[38;5;34m320\u001b[0m │\n",
              "├──────────────────────────────────────┼─────────────────────────────┼─────────────────┤\n",
              "│ max_pooling2d (\u001b[38;5;33mMaxPooling2D\u001b[0m)         │ (\u001b[38;5;45mNone\u001b[0m, \u001b[38;5;34m13\u001b[0m, \u001b[38;5;34m13\u001b[0m, \u001b[38;5;34m32\u001b[0m)          │               \u001b[38;5;34m0\u001b[0m │\n",
              "├──────────────────────────────────────┼─────────────────────────────┼─────────────────┤\n",
              "│ conv2d_1 (\u001b[38;5;33mConv2D\u001b[0m)                    │ (\u001b[38;5;45mNone\u001b[0m, \u001b[38;5;34m11\u001b[0m, \u001b[38;5;34m11\u001b[0m, \u001b[38;5;34m64\u001b[0m)          │          \u001b[38;5;34m18,496\u001b[0m │\n",
              "├──────────────────────────────────────┼─────────────────────────────┼─────────────────┤\n",
              "│ max_pooling2d_1 (\u001b[38;5;33mMaxPooling2D\u001b[0m)       │ (\u001b[38;5;45mNone\u001b[0m, \u001b[38;5;34m5\u001b[0m, \u001b[38;5;34m5\u001b[0m, \u001b[38;5;34m64\u001b[0m)            │               \u001b[38;5;34m0\u001b[0m │\n",
              "├──────────────────────────────────────┼─────────────────────────────┼─────────────────┤\n",
              "│ conv2d_2 (\u001b[38;5;33mConv2D\u001b[0m)                    │ (\u001b[38;5;45mNone\u001b[0m, \u001b[38;5;34m3\u001b[0m, \u001b[38;5;34m3\u001b[0m, \u001b[38;5;34m128\u001b[0m)           │          \u001b[38;5;34m73,856\u001b[0m │\n",
              "├──────────────────────────────────────┼─────────────────────────────┼─────────────────┤\n",
              "│ flatten (\u001b[38;5;33mFlatten\u001b[0m)                    │ (\u001b[38;5;45mNone\u001b[0m, \u001b[38;5;34m1152\u001b[0m)                │               \u001b[38;5;34m0\u001b[0m │\n",
              "├──────────────────────────────────────┼─────────────────────────────┼─────────────────┤\n",
              "│ dense (\u001b[38;5;33mDense\u001b[0m)                        │ (\u001b[38;5;45mNone\u001b[0m, \u001b[38;5;34m10\u001b[0m)                  │          \u001b[38;5;34m11,530\u001b[0m │\n",
              "└──────────────────────────────────────┴─────────────────────────────┴─────────────────┘\n"
            ],
            "text/html": [
              "<pre style=\"white-space:pre;overflow-x:auto;line-height:normal;font-family:Menlo,'DejaVu Sans Mono',consolas,'Courier New',monospace\">┏━━━━━━━━━━━━━━━━━━━━━━━━━━━━━━━━━━━━━━┳━━━━━━━━━━━━━━━━━━━━━━━━━━━━━┳━━━━━━━━━━━━━━━━━┓\n",
              "┃<span style=\"font-weight: bold\"> Layer (type)                         </span>┃<span style=\"font-weight: bold\"> Output Shape                </span>┃<span style=\"font-weight: bold\">         Param # </span>┃\n",
              "┡━━━━━━━━━━━━━━━━━━━━━━━━━━━━━━━━━━━━━━╇━━━━━━━━━━━━━━━━━━━━━━━━━━━━━╇━━━━━━━━━━━━━━━━━┩\n",
              "│ input_layer (<span style=\"color: #0087ff; text-decoration-color: #0087ff\">InputLayer</span>)             │ (<span style=\"color: #00d7ff; text-decoration-color: #00d7ff\">None</span>, <span style=\"color: #00af00; text-decoration-color: #00af00\">28</span>, <span style=\"color: #00af00; text-decoration-color: #00af00\">28</span>, <span style=\"color: #00af00; text-decoration-color: #00af00\">1</span>)           │               <span style=\"color: #00af00; text-decoration-color: #00af00\">0</span> │\n",
              "├──────────────────────────────────────┼─────────────────────────────┼─────────────────┤\n",
              "│ conv2d (<span style=\"color: #0087ff; text-decoration-color: #0087ff\">Conv2D</span>)                      │ (<span style=\"color: #00d7ff; text-decoration-color: #00d7ff\">None</span>, <span style=\"color: #00af00; text-decoration-color: #00af00\">26</span>, <span style=\"color: #00af00; text-decoration-color: #00af00\">26</span>, <span style=\"color: #00af00; text-decoration-color: #00af00\">32</span>)          │             <span style=\"color: #00af00; text-decoration-color: #00af00\">320</span> │\n",
              "├──────────────────────────────────────┼─────────────────────────────┼─────────────────┤\n",
              "│ max_pooling2d (<span style=\"color: #0087ff; text-decoration-color: #0087ff\">MaxPooling2D</span>)         │ (<span style=\"color: #00d7ff; text-decoration-color: #00d7ff\">None</span>, <span style=\"color: #00af00; text-decoration-color: #00af00\">13</span>, <span style=\"color: #00af00; text-decoration-color: #00af00\">13</span>, <span style=\"color: #00af00; text-decoration-color: #00af00\">32</span>)          │               <span style=\"color: #00af00; text-decoration-color: #00af00\">0</span> │\n",
              "├──────────────────────────────────────┼─────────────────────────────┼─────────────────┤\n",
              "│ conv2d_1 (<span style=\"color: #0087ff; text-decoration-color: #0087ff\">Conv2D</span>)                    │ (<span style=\"color: #00d7ff; text-decoration-color: #00d7ff\">None</span>, <span style=\"color: #00af00; text-decoration-color: #00af00\">11</span>, <span style=\"color: #00af00; text-decoration-color: #00af00\">11</span>, <span style=\"color: #00af00; text-decoration-color: #00af00\">64</span>)          │          <span style=\"color: #00af00; text-decoration-color: #00af00\">18,496</span> │\n",
              "├──────────────────────────────────────┼─────────────────────────────┼─────────────────┤\n",
              "│ max_pooling2d_1 (<span style=\"color: #0087ff; text-decoration-color: #0087ff\">MaxPooling2D</span>)       │ (<span style=\"color: #00d7ff; text-decoration-color: #00d7ff\">None</span>, <span style=\"color: #00af00; text-decoration-color: #00af00\">5</span>, <span style=\"color: #00af00; text-decoration-color: #00af00\">5</span>, <span style=\"color: #00af00; text-decoration-color: #00af00\">64</span>)            │               <span style=\"color: #00af00; text-decoration-color: #00af00\">0</span> │\n",
              "├──────────────────────────────────────┼─────────────────────────────┼─────────────────┤\n",
              "│ conv2d_2 (<span style=\"color: #0087ff; text-decoration-color: #0087ff\">Conv2D</span>)                    │ (<span style=\"color: #00d7ff; text-decoration-color: #00d7ff\">None</span>, <span style=\"color: #00af00; text-decoration-color: #00af00\">3</span>, <span style=\"color: #00af00; text-decoration-color: #00af00\">3</span>, <span style=\"color: #00af00; text-decoration-color: #00af00\">128</span>)           │          <span style=\"color: #00af00; text-decoration-color: #00af00\">73,856</span> │\n",
              "├──────────────────────────────────────┼─────────────────────────────┼─────────────────┤\n",
              "│ flatten (<span style=\"color: #0087ff; text-decoration-color: #0087ff\">Flatten</span>)                    │ (<span style=\"color: #00d7ff; text-decoration-color: #00d7ff\">None</span>, <span style=\"color: #00af00; text-decoration-color: #00af00\">1152</span>)                │               <span style=\"color: #00af00; text-decoration-color: #00af00\">0</span> │\n",
              "├──────────────────────────────────────┼─────────────────────────────┼─────────────────┤\n",
              "│ dense (<span style=\"color: #0087ff; text-decoration-color: #0087ff\">Dense</span>)                        │ (<span style=\"color: #00d7ff; text-decoration-color: #00d7ff\">None</span>, <span style=\"color: #00af00; text-decoration-color: #00af00\">10</span>)                  │          <span style=\"color: #00af00; text-decoration-color: #00af00\">11,530</span> │\n",
              "└──────────────────────────────────────┴─────────────────────────────┴─────────────────┘\n",
              "</pre>\n"
            ]
          },
          "metadata": {}
        },
        {
          "output_type": "display_data",
          "data": {
            "text/plain": [
              "\u001b[1m Total params: \u001b[0m\u001b[38;5;34m104,202\u001b[0m (407.04 KB)\n"
            ],
            "text/html": [
              "<pre style=\"white-space:pre;overflow-x:auto;line-height:normal;font-family:Menlo,'DejaVu Sans Mono',consolas,'Courier New',monospace\"><span style=\"font-weight: bold\"> Total params: </span><span style=\"color: #00af00; text-decoration-color: #00af00\">104,202</span> (407.04 KB)\n",
              "</pre>\n"
            ]
          },
          "metadata": {}
        },
        {
          "output_type": "display_data",
          "data": {
            "text/plain": [
              "\u001b[1m Trainable params: \u001b[0m\u001b[38;5;34m104,202\u001b[0m (407.04 KB)\n"
            ],
            "text/html": [
              "<pre style=\"white-space:pre;overflow-x:auto;line-height:normal;font-family:Menlo,'DejaVu Sans Mono',consolas,'Courier New',monospace\"><span style=\"font-weight: bold\"> Trainable params: </span><span style=\"color: #00af00; text-decoration-color: #00af00\">104,202</span> (407.04 KB)\n",
              "</pre>\n"
            ]
          },
          "metadata": {}
        },
        {
          "output_type": "display_data",
          "data": {
            "text/plain": [
              "\u001b[1m Non-trainable params: \u001b[0m\u001b[38;5;34m0\u001b[0m (0.00 B)\n"
            ],
            "text/html": [
              "<pre style=\"white-space:pre;overflow-x:auto;line-height:normal;font-family:Menlo,'DejaVu Sans Mono',consolas,'Courier New',monospace\"><span style=\"font-weight: bold\"> Non-trainable params: </span><span style=\"color: #00af00; text-decoration-color: #00af00\">0</span> (0.00 B)\n",
              "</pre>\n"
            ]
          },
          "metadata": {}
        }
      ],
      "source": [
        "model.summary()"
      ]
    },
    {
      "cell_type": "markdown",
      "source": [
        "![Skærmbillede 2025-04-04 kl. 16.21.53.png](data:image/png;base64,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)\n"
      ],
      "metadata": {
        "id": "4OzvxLD8Lg8e"
      }
    },
    {
      "cell_type": "markdown",
      "metadata": {
        "id": "Ic43BgJUIxiq"
      },
      "source": [
        "**Training the convnet on MNIST images**"
      ]
    },
    {
      "cell_type": "code",
      "execution_count": 3,
      "metadata": {
        "id": "o69HvZ9mIxiq",
        "outputId": "0e0223f5-ac12-4fb0-d446-0b85a25f9fc1",
        "colab": {
          "base_uri": "https://localhost:8080/"
        }
      },
      "outputs": [
        {
          "output_type": "stream",
          "name": "stdout",
          "text": [
            "Downloading data from https://storage.googleapis.com/tensorflow/tf-keras-datasets/mnist.npz\n",
            "\u001b[1m11490434/11490434\u001b[0m \u001b[32m━━━━━━━━━━━━━━━━━━━━\u001b[0m\u001b[37m\u001b[0m \u001b[1m0s\u001b[0m 0us/step\n",
            "Epoch 1/5\n",
            "\u001b[1m938/938\u001b[0m \u001b[32m━━━━━━━━━━━━━━━━━━━━\u001b[0m\u001b[37m\u001b[0m \u001b[1m51s\u001b[0m 53ms/step - accuracy: 0.8873 - loss: 0.3629\n",
            "Epoch 2/5\n",
            "\u001b[1m938/938\u001b[0m \u001b[32m━━━━━━━━━━━━━━━━━━━━\u001b[0m\u001b[37m\u001b[0m \u001b[1m84s\u001b[0m 55ms/step - accuracy: 0.9855 - loss: 0.0479\n",
            "Epoch 3/5\n",
            "\u001b[1m938/938\u001b[0m \u001b[32m━━━━━━━━━━━━━━━━━━━━\u001b[0m\u001b[37m\u001b[0m \u001b[1m49s\u001b[0m 52ms/step - accuracy: 0.9906 - loss: 0.0302\n",
            "Epoch 4/5\n",
            "\u001b[1m938/938\u001b[0m \u001b[32m━━━━━━━━━━━━━━━━━━━━\u001b[0m\u001b[37m\u001b[0m \u001b[1m86s\u001b[0m 57ms/step - accuracy: 0.9924 - loss: 0.0230\n",
            "Epoch 5/5\n",
            "\u001b[1m938/938\u001b[0m \u001b[32m━━━━━━━━━━━━━━━━━━━━\u001b[0m\u001b[37m\u001b[0m \u001b[1m79s\u001b[0m 54ms/step - accuracy: 0.9949 - loss: 0.0164\n"
          ]
        },
        {
          "output_type": "execute_result",
          "data": {
            "text/plain": [
              "<keras.src.callbacks.history.History at 0x7f85d3f8ba10>"
            ]
          },
          "metadata": {},
          "execution_count": 3
        }
      ],
      "source": [
        "from tensorflow.keras.datasets import mnist\n",
        "\n",
        "(train_images, train_labels), (test_images, test_labels) = mnist.load_data()\n",
        "train_images = train_images.reshape((60000, 28, 28, 1))\n",
        "train_images = train_images.astype(\"float32\") / 255\n",
        "test_images = test_images.reshape((10000, 28, 28, 1))\n",
        "test_images = test_images.astype(\"float32\") / 255\n",
        "model.compile(optimizer=\"rmsprop\",\n",
        "    loss=\"sparse_categorical_crossentropy\",\n",
        "    metrics=[\"accuracy\"])\n",
        "model.fit(train_images, train_labels, epochs=5, batch_size=64)"
      ]
    },
    {
      "cell_type": "markdown",
      "metadata": {
        "id": "MqxeQaxuIxiq"
      },
      "source": [
        "**Evaluating the convnet**"
      ]
    },
    {
      "cell_type": "code",
      "execution_count": 4,
      "metadata": {
        "id": "-tsWJaCxIxir",
        "outputId": "107f6fa1-f5d6-42b7-b812-bc27de5cb030",
        "colab": {
          "base_uri": "https://localhost:8080/"
        }
      },
      "outputs": [
        {
          "output_type": "stream",
          "name": "stdout",
          "text": [
            "\u001b[1m313/313\u001b[0m \u001b[32m━━━━━━━━━━━━━━━━━━━━\u001b[0m\u001b[37m\u001b[0m \u001b[1m3s\u001b[0m 9ms/step - accuracy: 0.9895 - loss: 0.0341\n",
            "Test accuracy: 0.992\n"
          ]
        }
      ],
      "source": [
        "test_loss, test_acc = model.evaluate(test_images, test_labels)\n",
        "print(f\"Test accuracy: {test_acc:.3f}\")"
      ]
    },
    {
      "cell_type": "markdown",
      "source": [
        "This means the model got 99.1% of the test images right.\n",
        "\n",
        "The old model (dense) had 97.8% accuracy.\n",
        "\n",
        "Why is this good?\n",
        "* Error rate with dense model: 100% - 97.8% = 2.2%\n",
        "* Error rate with CNN model: 100% - 99.1% = 0.9%\n",
        "  * 2.2%−0.9%=1.3% færre fejl\n",
        "  * 2.2/1.3 ×100≈59.1%\n",
        "\n",
        "That’s a 60% drop in errors. So, CNN is much better for images!"
      ],
      "metadata": {
        "id": "JKtPEWcKMsd3"
      }
    },
    {
      "cell_type": "markdown",
      "source": [
        "### Padding\n",
        "Padding helps keep the size of your feature maps the same after a convolution."
      ],
      "metadata": {
        "id": "7NFmTpl1Vown"
      }
    },
    {
      "cell_type": "code",
      "source": [
        "inputs = keras.Input(shape=(28, 28, 1))\n",
        "x = layers.Conv2D(filters=32, kernel_size=3, activation=\"relu\",\n",
        "                  padding = \"same\")(inputs)\n",
        "x = layers.MaxPooling2D(pool_size=2)(x)\n",
        "x = layers.Conv2D(filters=64, kernel_size=3, activation=\"relu\")(x)\n",
        "x = layers.MaxPooling2D(pool_size=2)(x)\n",
        "x = layers.Conv2D(filters=128, kernel_size=3, activation=\"relu\")(x)\n",
        "x = layers.Flatten()(x)\n",
        "outputs = layers.Dense(10, activation=\"softmax\")(x)\n",
        "model = keras.Model(inputs=inputs, outputs=outputs)"
      ],
      "metadata": {
        "id": "1qFbqvNbWCRU"
      },
      "execution_count": 5,
      "outputs": []
    },
    {
      "cell_type": "code",
      "source": [
        "model.summary()"
      ],
      "metadata": {
        "id": "_4qhmZrUWOJM",
        "outputId": "1bfc4673-faba-458f-da07-4162dc5136f5",
        "colab": {
          "base_uri": "https://localhost:8080/",
          "height": 388
        }
      },
      "execution_count": 6,
      "outputs": [
        {
          "output_type": "display_data",
          "data": {
            "text/plain": [
              "\u001b[1mModel: \"functional_1\"\u001b[0m\n"
            ],
            "text/html": [
              "<pre style=\"white-space:pre;overflow-x:auto;line-height:normal;font-family:Menlo,'DejaVu Sans Mono',consolas,'Courier New',monospace\"><span style=\"font-weight: bold\">Model: \"functional_1\"</span>\n",
              "</pre>\n"
            ]
          },
          "metadata": {}
        },
        {
          "output_type": "display_data",
          "data": {
            "text/plain": [
              "┏━━━━━━━━━━━━━━━━━━━━━━━━━━━━━━━━━━━━━━┳━━━━━━━━━━━━━━━━━━━━━━━━━━━━━┳━━━━━━━━━━━━━━━━━┓\n",
              "┃\u001b[1m \u001b[0m\u001b[1mLayer (type)                        \u001b[0m\u001b[1m \u001b[0m┃\u001b[1m \u001b[0m\u001b[1mOutput Shape               \u001b[0m\u001b[1m \u001b[0m┃\u001b[1m \u001b[0m\u001b[1m        Param #\u001b[0m\u001b[1m \u001b[0m┃\n",
              "┡━━━━━━━━━━━━━━━━━━━━━━━━━━━━━━━━━━━━━━╇━━━━━━━━━━━━━━━━━━━━━━━━━━━━━╇━━━━━━━━━━━━━━━━━┩\n",
              "│ input_layer_1 (\u001b[38;5;33mInputLayer\u001b[0m)           │ (\u001b[38;5;45mNone\u001b[0m, \u001b[38;5;34m28\u001b[0m, \u001b[38;5;34m28\u001b[0m, \u001b[38;5;34m1\u001b[0m)           │               \u001b[38;5;34m0\u001b[0m │\n",
              "├──────────────────────────────────────┼─────────────────────────────┼─────────────────┤\n",
              "│ conv2d_3 (\u001b[38;5;33mConv2D\u001b[0m)                    │ (\u001b[38;5;45mNone\u001b[0m, \u001b[38;5;34m28\u001b[0m, \u001b[38;5;34m28\u001b[0m, \u001b[38;5;34m32\u001b[0m)          │             \u001b[38;5;34m320\u001b[0m │\n",
              "├──────────────────────────────────────┼─────────────────────────────┼─────────────────┤\n",
              "│ max_pooling2d_2 (\u001b[38;5;33mMaxPooling2D\u001b[0m)       │ (\u001b[38;5;45mNone\u001b[0m, \u001b[38;5;34m14\u001b[0m, \u001b[38;5;34m14\u001b[0m, \u001b[38;5;34m32\u001b[0m)          │               \u001b[38;5;34m0\u001b[0m │\n",
              "├──────────────────────────────────────┼─────────────────────────────┼─────────────────┤\n",
              "│ conv2d_4 (\u001b[38;5;33mConv2D\u001b[0m)                    │ (\u001b[38;5;45mNone\u001b[0m, \u001b[38;5;34m12\u001b[0m, \u001b[38;5;34m12\u001b[0m, \u001b[38;5;34m64\u001b[0m)          │          \u001b[38;5;34m18,496\u001b[0m │\n",
              "├──────────────────────────────────────┼─────────────────────────────┼─────────────────┤\n",
              "│ max_pooling2d_3 (\u001b[38;5;33mMaxPooling2D\u001b[0m)       │ (\u001b[38;5;45mNone\u001b[0m, \u001b[38;5;34m6\u001b[0m, \u001b[38;5;34m6\u001b[0m, \u001b[38;5;34m64\u001b[0m)            │               \u001b[38;5;34m0\u001b[0m │\n",
              "├──────────────────────────────────────┼─────────────────────────────┼─────────────────┤\n",
              "│ conv2d_5 (\u001b[38;5;33mConv2D\u001b[0m)                    │ (\u001b[38;5;45mNone\u001b[0m, \u001b[38;5;34m4\u001b[0m, \u001b[38;5;34m4\u001b[0m, \u001b[38;5;34m128\u001b[0m)           │          \u001b[38;5;34m73,856\u001b[0m │\n",
              "├──────────────────────────────────────┼─────────────────────────────┼─────────────────┤\n",
              "│ flatten_1 (\u001b[38;5;33mFlatten\u001b[0m)                  │ (\u001b[38;5;45mNone\u001b[0m, \u001b[38;5;34m2048\u001b[0m)                │               \u001b[38;5;34m0\u001b[0m │\n",
              "├──────────────────────────────────────┼─────────────────────────────┼─────────────────┤\n",
              "│ dense_1 (\u001b[38;5;33mDense\u001b[0m)                      │ (\u001b[38;5;45mNone\u001b[0m, \u001b[38;5;34m10\u001b[0m)                  │          \u001b[38;5;34m20,490\u001b[0m │\n",
              "└──────────────────────────────────────┴─────────────────────────────┴─────────────────┘\n"
            ],
            "text/html": [
              "<pre style=\"white-space:pre;overflow-x:auto;line-height:normal;font-family:Menlo,'DejaVu Sans Mono',consolas,'Courier New',monospace\">┏━━━━━━━━━━━━━━━━━━━━━━━━━━━━━━━━━━━━━━┳━━━━━━━━━━━━━━━━━━━━━━━━━━━━━┳━━━━━━━━━━━━━━━━━┓\n",
              "┃<span style=\"font-weight: bold\"> Layer (type)                         </span>┃<span style=\"font-weight: bold\"> Output Shape                </span>┃<span style=\"font-weight: bold\">         Param # </span>┃\n",
              "┡━━━━━━━━━━━━━━━━━━━━━━━━━━━━━━━━━━━━━━╇━━━━━━━━━━━━━━━━━━━━━━━━━━━━━╇━━━━━━━━━━━━━━━━━┩\n",
              "│ input_layer_1 (<span style=\"color: #0087ff; text-decoration-color: #0087ff\">InputLayer</span>)           │ (<span style=\"color: #00d7ff; text-decoration-color: #00d7ff\">None</span>, <span style=\"color: #00af00; text-decoration-color: #00af00\">28</span>, <span style=\"color: #00af00; text-decoration-color: #00af00\">28</span>, <span style=\"color: #00af00; text-decoration-color: #00af00\">1</span>)           │               <span style=\"color: #00af00; text-decoration-color: #00af00\">0</span> │\n",
              "├──────────────────────────────────────┼─────────────────────────────┼─────────────────┤\n",
              "│ conv2d_3 (<span style=\"color: #0087ff; text-decoration-color: #0087ff\">Conv2D</span>)                    │ (<span style=\"color: #00d7ff; text-decoration-color: #00d7ff\">None</span>, <span style=\"color: #00af00; text-decoration-color: #00af00\">28</span>, <span style=\"color: #00af00; text-decoration-color: #00af00\">28</span>, <span style=\"color: #00af00; text-decoration-color: #00af00\">32</span>)          │             <span style=\"color: #00af00; text-decoration-color: #00af00\">320</span> │\n",
              "├──────────────────────────────────────┼─────────────────────────────┼─────────────────┤\n",
              "│ max_pooling2d_2 (<span style=\"color: #0087ff; text-decoration-color: #0087ff\">MaxPooling2D</span>)       │ (<span style=\"color: #00d7ff; text-decoration-color: #00d7ff\">None</span>, <span style=\"color: #00af00; text-decoration-color: #00af00\">14</span>, <span style=\"color: #00af00; text-decoration-color: #00af00\">14</span>, <span style=\"color: #00af00; text-decoration-color: #00af00\">32</span>)          │               <span style=\"color: #00af00; text-decoration-color: #00af00\">0</span> │\n",
              "├──────────────────────────────────────┼─────────────────────────────┼─────────────────┤\n",
              "│ conv2d_4 (<span style=\"color: #0087ff; text-decoration-color: #0087ff\">Conv2D</span>)                    │ (<span style=\"color: #00d7ff; text-decoration-color: #00d7ff\">None</span>, <span style=\"color: #00af00; text-decoration-color: #00af00\">12</span>, <span style=\"color: #00af00; text-decoration-color: #00af00\">12</span>, <span style=\"color: #00af00; text-decoration-color: #00af00\">64</span>)          │          <span style=\"color: #00af00; text-decoration-color: #00af00\">18,496</span> │\n",
              "├──────────────────────────────────────┼─────────────────────────────┼─────────────────┤\n",
              "│ max_pooling2d_3 (<span style=\"color: #0087ff; text-decoration-color: #0087ff\">MaxPooling2D</span>)       │ (<span style=\"color: #00d7ff; text-decoration-color: #00d7ff\">None</span>, <span style=\"color: #00af00; text-decoration-color: #00af00\">6</span>, <span style=\"color: #00af00; text-decoration-color: #00af00\">6</span>, <span style=\"color: #00af00; text-decoration-color: #00af00\">64</span>)            │               <span style=\"color: #00af00; text-decoration-color: #00af00\">0</span> │\n",
              "├──────────────────────────────────────┼─────────────────────────────┼─────────────────┤\n",
              "│ conv2d_5 (<span style=\"color: #0087ff; text-decoration-color: #0087ff\">Conv2D</span>)                    │ (<span style=\"color: #00d7ff; text-decoration-color: #00d7ff\">None</span>, <span style=\"color: #00af00; text-decoration-color: #00af00\">4</span>, <span style=\"color: #00af00; text-decoration-color: #00af00\">4</span>, <span style=\"color: #00af00; text-decoration-color: #00af00\">128</span>)           │          <span style=\"color: #00af00; text-decoration-color: #00af00\">73,856</span> │\n",
              "├──────────────────────────────────────┼─────────────────────────────┼─────────────────┤\n",
              "│ flatten_1 (<span style=\"color: #0087ff; text-decoration-color: #0087ff\">Flatten</span>)                  │ (<span style=\"color: #00d7ff; text-decoration-color: #00d7ff\">None</span>, <span style=\"color: #00af00; text-decoration-color: #00af00\">2048</span>)                │               <span style=\"color: #00af00; text-decoration-color: #00af00\">0</span> │\n",
              "├──────────────────────────────────────┼─────────────────────────────┼─────────────────┤\n",
              "│ dense_1 (<span style=\"color: #0087ff; text-decoration-color: #0087ff\">Dense</span>)                      │ (<span style=\"color: #00d7ff; text-decoration-color: #00d7ff\">None</span>, <span style=\"color: #00af00; text-decoration-color: #00af00\">10</span>)                  │          <span style=\"color: #00af00; text-decoration-color: #00af00\">20,490</span> │\n",
              "└──────────────────────────────────────┴─────────────────────────────┴─────────────────┘\n",
              "</pre>\n"
            ]
          },
          "metadata": {}
        },
        {
          "output_type": "display_data",
          "data": {
            "text/plain": [
              "\u001b[1m Total params: \u001b[0m\u001b[38;5;34m113,162\u001b[0m (442.04 KB)\n"
            ],
            "text/html": [
              "<pre style=\"white-space:pre;overflow-x:auto;line-height:normal;font-family:Menlo,'DejaVu Sans Mono',consolas,'Courier New',monospace\"><span style=\"font-weight: bold\"> Total params: </span><span style=\"color: #00af00; text-decoration-color: #00af00\">113,162</span> (442.04 KB)\n",
              "</pre>\n"
            ]
          },
          "metadata": {}
        },
        {
          "output_type": "display_data",
          "data": {
            "text/plain": [
              "\u001b[1m Trainable params: \u001b[0m\u001b[38;5;34m113,162\u001b[0m (442.04 KB)\n"
            ],
            "text/html": [
              "<pre style=\"white-space:pre;overflow-x:auto;line-height:normal;font-family:Menlo,'DejaVu Sans Mono',consolas,'Courier New',monospace\"><span style=\"font-weight: bold\"> Trainable params: </span><span style=\"color: #00af00; text-decoration-color: #00af00\">113,162</span> (442.04 KB)\n",
              "</pre>\n"
            ]
          },
          "metadata": {}
        },
        {
          "output_type": "display_data",
          "data": {
            "text/plain": [
              "\u001b[1m Non-trainable params: \u001b[0m\u001b[38;5;34m0\u001b[0m (0.00 B)\n"
            ],
            "text/html": [
              "<pre style=\"white-space:pre;overflow-x:auto;line-height:normal;font-family:Menlo,'DejaVu Sans Mono',consolas,'Courier New',monospace\"><span style=\"font-weight: bold\"> Non-trainable params: </span><span style=\"color: #00af00; text-decoration-color: #00af00\">0</span> (0.00 B)\n",
              "</pre>\n"
            ]
          },
          "metadata": {}
        }
      ]
    },
    {
      "cell_type": "markdown",
      "source": [
        "And now the height and width will stay the same"
      ],
      "metadata": {
        "id": "8QxFFXqNWN3A"
      }
    },
    {
      "cell_type": "markdown",
      "metadata": {
        "id": "KjKh1kZnIxir"
      },
      "source": [
        "### The max-pooling operation"
      ]
    },
    {
      "cell_type": "markdown",
      "metadata": {
        "id": "3ym37oDWIxir"
      },
      "source": [
        "**An incorrectly structured convnet missing its max-pooling layers**"
      ]
    },
    {
      "cell_type": "code",
      "execution_count": 7,
      "metadata": {
        "id": "tpU1iNL6Ixir"
      },
      "outputs": [],
      "source": [
        "inputs = keras.Input(shape=(28, 28, 1))\n",
        "x = layers.Conv2D(filters=32, kernel_size=3, activation=\"relu\")(inputs)\n",
        "x = layers.Conv2D(filters=64, kernel_size=3, activation=\"relu\")(x)\n",
        "x = layers.Conv2D(filters=128, kernel_size=3, activation=\"relu\")(x)\n",
        "x = layers.Flatten()(x)\n",
        "outputs = layers.Dense(10, activation=\"softmax\")(x)\n",
        "model_no_max_pool = keras.Model(inputs=inputs, outputs=outputs)"
      ]
    },
    {
      "cell_type": "markdown",
      "source": [
        "ReLU\n",
        "* We still use the ReLU activation function\n",
        "* ReLU is applied across each feature map output from a convolution layer\n",
        "* Simply puts focus on non-negative values in the feature map\n",
        "\n",
        "\n"
      ],
      "metadata": {
        "id": "e7u_fUEuYxhC"
      }
    },
    {
      "cell_type": "code",
      "execution_count": 8,
      "metadata": {
        "id": "MNhZbqVKIxir",
        "outputId": "6ec1b61f-7ae6-4e21-c9fa-29985302c053",
        "colab": {
          "base_uri": "https://localhost:8080/",
          "height": 323
        }
      },
      "outputs": [
        {
          "output_type": "display_data",
          "data": {
            "text/plain": [
              "\u001b[1mModel: \"functional_2\"\u001b[0m\n"
            ],
            "text/html": [
              "<pre style=\"white-space:pre;overflow-x:auto;line-height:normal;font-family:Menlo,'DejaVu Sans Mono',consolas,'Courier New',monospace\"><span style=\"font-weight: bold\">Model: \"functional_2\"</span>\n",
              "</pre>\n"
            ]
          },
          "metadata": {}
        },
        {
          "output_type": "display_data",
          "data": {
            "text/plain": [
              "┏━━━━━━━━━━━━━━━━━━━━━━━━━━━━━━━━━━━━━━┳━━━━━━━━━━━━━━━━━━━━━━━━━━━━━┳━━━━━━━━━━━━━━━━━┓\n",
              "┃\u001b[1m \u001b[0m\u001b[1mLayer (type)                        \u001b[0m\u001b[1m \u001b[0m┃\u001b[1m \u001b[0m\u001b[1mOutput Shape               \u001b[0m\u001b[1m \u001b[0m┃\u001b[1m \u001b[0m\u001b[1m        Param #\u001b[0m\u001b[1m \u001b[0m┃\n",
              "┡━━━━━━━━━━━━━━━━━━━━━━━━━━━━━━━━━━━━━━╇━━━━━━━━━━━━━━━━━━━━━━━━━━━━━╇━━━━━━━━━━━━━━━━━┩\n",
              "│ input_layer_2 (\u001b[38;5;33mInputLayer\u001b[0m)           │ (\u001b[38;5;45mNone\u001b[0m, \u001b[38;5;34m28\u001b[0m, \u001b[38;5;34m28\u001b[0m, \u001b[38;5;34m1\u001b[0m)           │               \u001b[38;5;34m0\u001b[0m │\n",
              "├──────────────────────────────────────┼─────────────────────────────┼─────────────────┤\n",
              "│ conv2d_6 (\u001b[38;5;33mConv2D\u001b[0m)                    │ (\u001b[38;5;45mNone\u001b[0m, \u001b[38;5;34m26\u001b[0m, \u001b[38;5;34m26\u001b[0m, \u001b[38;5;34m32\u001b[0m)          │             \u001b[38;5;34m320\u001b[0m │\n",
              "├──────────────────────────────────────┼─────────────────────────────┼─────────────────┤\n",
              "│ conv2d_7 (\u001b[38;5;33mConv2D\u001b[0m)                    │ (\u001b[38;5;45mNone\u001b[0m, \u001b[38;5;34m24\u001b[0m, \u001b[38;5;34m24\u001b[0m, \u001b[38;5;34m64\u001b[0m)          │          \u001b[38;5;34m18,496\u001b[0m │\n",
              "├──────────────────────────────────────┼─────────────────────────────┼─────────────────┤\n",
              "│ conv2d_8 (\u001b[38;5;33mConv2D\u001b[0m)                    │ (\u001b[38;5;45mNone\u001b[0m, \u001b[38;5;34m22\u001b[0m, \u001b[38;5;34m22\u001b[0m, \u001b[38;5;34m128\u001b[0m)         │          \u001b[38;5;34m73,856\u001b[0m │\n",
              "├──────────────────────────────────────┼─────────────────────────────┼─────────────────┤\n",
              "│ flatten_2 (\u001b[38;5;33mFlatten\u001b[0m)                  │ (\u001b[38;5;45mNone\u001b[0m, \u001b[38;5;34m61952\u001b[0m)               │               \u001b[38;5;34m0\u001b[0m │\n",
              "├──────────────────────────────────────┼─────────────────────────────┼─────────────────┤\n",
              "│ dense_2 (\u001b[38;5;33mDense\u001b[0m)                      │ (\u001b[38;5;45mNone\u001b[0m, \u001b[38;5;34m10\u001b[0m)                  │         \u001b[38;5;34m619,530\u001b[0m │\n",
              "└──────────────────────────────────────┴─────────────────────────────┴─────────────────┘\n"
            ],
            "text/html": [
              "<pre style=\"white-space:pre;overflow-x:auto;line-height:normal;font-family:Menlo,'DejaVu Sans Mono',consolas,'Courier New',monospace\">┏━━━━━━━━━━━━━━━━━━━━━━━━━━━━━━━━━━━━━━┳━━━━━━━━━━━━━━━━━━━━━━━━━━━━━┳━━━━━━━━━━━━━━━━━┓\n",
              "┃<span style=\"font-weight: bold\"> Layer (type)                         </span>┃<span style=\"font-weight: bold\"> Output Shape                </span>┃<span style=\"font-weight: bold\">         Param # </span>┃\n",
              "┡━━━━━━━━━━━━━━━━━━━━━━━━━━━━━━━━━━━━━━╇━━━━━━━━━━━━━━━━━━━━━━━━━━━━━╇━━━━━━━━━━━━━━━━━┩\n",
              "│ input_layer_2 (<span style=\"color: #0087ff; text-decoration-color: #0087ff\">InputLayer</span>)           │ (<span style=\"color: #00d7ff; text-decoration-color: #00d7ff\">None</span>, <span style=\"color: #00af00; text-decoration-color: #00af00\">28</span>, <span style=\"color: #00af00; text-decoration-color: #00af00\">28</span>, <span style=\"color: #00af00; text-decoration-color: #00af00\">1</span>)           │               <span style=\"color: #00af00; text-decoration-color: #00af00\">0</span> │\n",
              "├──────────────────────────────────────┼─────────────────────────────┼─────────────────┤\n",
              "│ conv2d_6 (<span style=\"color: #0087ff; text-decoration-color: #0087ff\">Conv2D</span>)                    │ (<span style=\"color: #00d7ff; text-decoration-color: #00d7ff\">None</span>, <span style=\"color: #00af00; text-decoration-color: #00af00\">26</span>, <span style=\"color: #00af00; text-decoration-color: #00af00\">26</span>, <span style=\"color: #00af00; text-decoration-color: #00af00\">32</span>)          │             <span style=\"color: #00af00; text-decoration-color: #00af00\">320</span> │\n",
              "├──────────────────────────────────────┼─────────────────────────────┼─────────────────┤\n",
              "│ conv2d_7 (<span style=\"color: #0087ff; text-decoration-color: #0087ff\">Conv2D</span>)                    │ (<span style=\"color: #00d7ff; text-decoration-color: #00d7ff\">None</span>, <span style=\"color: #00af00; text-decoration-color: #00af00\">24</span>, <span style=\"color: #00af00; text-decoration-color: #00af00\">24</span>, <span style=\"color: #00af00; text-decoration-color: #00af00\">64</span>)          │          <span style=\"color: #00af00; text-decoration-color: #00af00\">18,496</span> │\n",
              "├──────────────────────────────────────┼─────────────────────────────┼─────────────────┤\n",
              "│ conv2d_8 (<span style=\"color: #0087ff; text-decoration-color: #0087ff\">Conv2D</span>)                    │ (<span style=\"color: #00d7ff; text-decoration-color: #00d7ff\">None</span>, <span style=\"color: #00af00; text-decoration-color: #00af00\">22</span>, <span style=\"color: #00af00; text-decoration-color: #00af00\">22</span>, <span style=\"color: #00af00; text-decoration-color: #00af00\">128</span>)         │          <span style=\"color: #00af00; text-decoration-color: #00af00\">73,856</span> │\n",
              "├──────────────────────────────────────┼─────────────────────────────┼─────────────────┤\n",
              "│ flatten_2 (<span style=\"color: #0087ff; text-decoration-color: #0087ff\">Flatten</span>)                  │ (<span style=\"color: #00d7ff; text-decoration-color: #00d7ff\">None</span>, <span style=\"color: #00af00; text-decoration-color: #00af00\">61952</span>)               │               <span style=\"color: #00af00; text-decoration-color: #00af00\">0</span> │\n",
              "├──────────────────────────────────────┼─────────────────────────────┼─────────────────┤\n",
              "│ dense_2 (<span style=\"color: #0087ff; text-decoration-color: #0087ff\">Dense</span>)                      │ (<span style=\"color: #00d7ff; text-decoration-color: #00d7ff\">None</span>, <span style=\"color: #00af00; text-decoration-color: #00af00\">10</span>)                  │         <span style=\"color: #00af00; text-decoration-color: #00af00\">619,530</span> │\n",
              "└──────────────────────────────────────┴─────────────────────────────┴─────────────────┘\n",
              "</pre>\n"
            ]
          },
          "metadata": {}
        },
        {
          "output_type": "display_data",
          "data": {
            "text/plain": [
              "\u001b[1m Total params: \u001b[0m\u001b[38;5;34m712,202\u001b[0m (2.72 MB)\n"
            ],
            "text/html": [
              "<pre style=\"white-space:pre;overflow-x:auto;line-height:normal;font-family:Menlo,'DejaVu Sans Mono',consolas,'Courier New',monospace\"><span style=\"font-weight: bold\"> Total params: </span><span style=\"color: #00af00; text-decoration-color: #00af00\">712,202</span> (2.72 MB)\n",
              "</pre>\n"
            ]
          },
          "metadata": {}
        },
        {
          "output_type": "display_data",
          "data": {
            "text/plain": [
              "\u001b[1m Trainable params: \u001b[0m\u001b[38;5;34m712,202\u001b[0m (2.72 MB)\n"
            ],
            "text/html": [
              "<pre style=\"white-space:pre;overflow-x:auto;line-height:normal;font-family:Menlo,'DejaVu Sans Mono',consolas,'Courier New',monospace\"><span style=\"font-weight: bold\"> Trainable params: </span><span style=\"color: #00af00; text-decoration-color: #00af00\">712,202</span> (2.72 MB)\n",
              "</pre>\n"
            ]
          },
          "metadata": {}
        },
        {
          "output_type": "display_data",
          "data": {
            "text/plain": [
              "\u001b[1m Non-trainable params: \u001b[0m\u001b[38;5;34m0\u001b[0m (0.00 B)\n"
            ],
            "text/html": [
              "<pre style=\"white-space:pre;overflow-x:auto;line-height:normal;font-family:Menlo,'DejaVu Sans Mono',consolas,'Courier New',monospace\"><span style=\"font-weight: bold\"> Non-trainable params: </span><span style=\"color: #00af00; text-decoration-color: #00af00\">0</span> (0.00 B)\n",
              "</pre>\n"
            ]
          },
          "metadata": {}
        }
      ],
      "source": [
        "model_no_max_pool.summary()"
      ]
    },
    {
      "cell_type": "markdown",
      "metadata": {
        "id": "g7uQcj2wIxir"
      },
      "source": [
        "## Training a convnet from scratch on a small dataset"
      ]
    },
    {
      "cell_type": "markdown",
      "metadata": {
        "id": "52WrXTGtIxir"
      },
      "source": [
        "### The relevance of deep learning for small-data problems"
      ]
    },
    {
      "cell_type": "markdown",
      "metadata": {
        "id": "JZjciTQxIxir"
      },
      "source": [
        "### Downloading the data"
      ]
    },
    {
      "cell_type": "code",
      "execution_count": null,
      "metadata": {
        "id": "GhQxGQMFIxir"
      },
      "outputs": [],
      "source": [
        "from google.colab import files\n",
        "files.upload()"
      ]
    },
    {
      "cell_type": "code",
      "execution_count": null,
      "metadata": {
        "id": "KbM_3FrCIxir"
      },
      "outputs": [],
      "source": [
        "!mkdir ~/.kaggle\n",
        "!cp kaggle.json ~/.kaggle/\n",
        "!chmod 600 ~/.kaggle/kaggle.json"
      ]
    },
    {
      "cell_type": "code",
      "execution_count": null,
      "metadata": {
        "id": "8hOE8Z9dIxir"
      },
      "outputs": [],
      "source": [
        "!kaggle competitions download -c dogs-vs-cats"
      ]
    },
    {
      "cell_type": "code",
      "execution_count": null,
      "metadata": {
        "id": "EH1_Nyp8Ixir"
      },
      "outputs": [],
      "source": [
        "!unzip -qq dogs-vs-cats.zip"
      ]
    },
    {
      "cell_type": "code",
      "execution_count": null,
      "metadata": {
        "id": "FN00QG8oIxir"
      },
      "outputs": [],
      "source": [
        "!unzip -qq train.zip"
      ]
    },
    {
      "cell_type": "markdown",
      "metadata": {
        "id": "l2j2vJ_zIxir"
      },
      "source": [
        "**Copying images to training, validation, and test directories**"
      ]
    },
    {
      "cell_type": "code",
      "execution_count": null,
      "metadata": {
        "id": "Y_LqHSbhIxir"
      },
      "outputs": [],
      "source": [
        "import os, shutil, pathlib\n",
        "\n",
        "original_dir = pathlib.Path(\"train\")\n",
        "new_base_dir = pathlib.Path(\"cats_vs_dogs_small\")\n",
        "\n",
        "def make_subset(subset_name, start_index, end_index):\n",
        "    for category in (\"cat\", \"dog\"):\n",
        "        dir = new_base_dir / subset_name / category\n",
        "        os.makedirs(dir)\n",
        "        fnames = [f\"{category}.{i}.jpg\" for i in range(start_index, end_index)]\n",
        "        for fname in fnames:\n",
        "            shutil.copyfile(src=original_dir / fname,\n",
        "                            dst=dir / fname)\n",
        "\n",
        "make_subset(\"train\", start_index=0, end_index=1000)\n",
        "make_subset(\"validation\", start_index=1000, end_index=1500)\n",
        "make_subset(\"test\", start_index=1500, end_index=2500)"
      ]
    },
    {
      "cell_type": "markdown",
      "metadata": {
        "id": "vvcBbZjxIxis"
      },
      "source": [
        "### Building the model"
      ]
    },
    {
      "cell_type": "markdown",
      "metadata": {
        "id": "W1sTv3SJIxis"
      },
      "source": [
        "**Instantiating a small convnet for dogs vs. cats classification**"
      ]
    },
    {
      "cell_type": "code",
      "execution_count": null,
      "metadata": {
        "id": "SI70QWpzIxis"
      },
      "outputs": [],
      "source": [
        "from tensorflow import keras\n",
        "from tensorflow.keras import layers\n",
        "\n",
        "inputs = keras.Input(shape=(180, 180, 3))\n",
        "x = layers.Rescaling(1./255)(inputs)\n",
        "x = layers.Conv2D(filters=32, kernel_size=3, activation=\"relu\")(x)\n",
        "x = layers.MaxPooling2D(pool_size=2)(x)\n",
        "x = layers.Conv2D(filters=64, kernel_size=3, activation=\"relu\")(x)\n",
        "x = layers.MaxPooling2D(pool_size=2)(x)\n",
        "x = layers.Conv2D(filters=128, kernel_size=3, activation=\"relu\")(x)\n",
        "x = layers.MaxPooling2D(pool_size=2)(x)\n",
        "x = layers.Conv2D(filters=256, kernel_size=3, activation=\"relu\")(x)\n",
        "x = layers.MaxPooling2D(pool_size=2)(x)\n",
        "x = layers.Conv2D(filters=256, kernel_size=3, activation=\"relu\")(x)\n",
        "x = layers.Flatten()(x)\n",
        "outputs = layers.Dense(1, activation=\"sigmoid\")(x)\n",
        "model = keras.Model(inputs=inputs, outputs=outputs)"
      ]
    },
    {
      "cell_type": "code",
      "execution_count": null,
      "metadata": {
        "id": "oYGYclFKIxis"
      },
      "outputs": [],
      "source": [
        "model.summary()"
      ]
    },
    {
      "cell_type": "markdown",
      "metadata": {
        "id": "Ig9wkqiLIxis"
      },
      "source": [
        "**Configuring the model for training**"
      ]
    },
    {
      "cell_type": "code",
      "execution_count": null,
      "metadata": {
        "id": "FkcHShC8Ixis"
      },
      "outputs": [],
      "source": [
        "model.compile(loss=\"binary_crossentropy\",\n",
        "              optimizer=\"rmsprop\",\n",
        "              metrics=[\"accuracy\"])"
      ]
    },
    {
      "cell_type": "markdown",
      "metadata": {
        "id": "AJnWX927Ixis"
      },
      "source": [
        "### Data preprocessing"
      ]
    },
    {
      "cell_type": "markdown",
      "metadata": {
        "id": "Y98aC_IyIxis"
      },
      "source": [
        "**Using `image_dataset_from_directory` to read images**"
      ]
    },
    {
      "cell_type": "code",
      "execution_count": null,
      "metadata": {
        "id": "EpqeK0a8Ixis"
      },
      "outputs": [],
      "source": [
        "from tensorflow.keras.utils import image_dataset_from_directory\n",
        "\n",
        "train_dataset = image_dataset_from_directory(\n",
        "    new_base_dir / \"train\",\n",
        "    image_size=(180, 180),\n",
        "    batch_size=32)\n",
        "validation_dataset = image_dataset_from_directory(\n",
        "    new_base_dir / \"validation\",\n",
        "    image_size=(180, 180),\n",
        "    batch_size=32)\n",
        "test_dataset = image_dataset_from_directory(\n",
        "    new_base_dir / \"test\",\n",
        "    image_size=(180, 180),\n",
        "    batch_size=32)"
      ]
    },
    {
      "cell_type": "code",
      "execution_count": null,
      "metadata": {
        "id": "74EnGWoZIxis"
      },
      "outputs": [],
      "source": [
        "import numpy as np\n",
        "import tensorflow as tf\n",
        "random_numbers = np.random.normal(size=(1000, 16))\n",
        "dataset = tf.data.Dataset.from_tensor_slices(random_numbers)"
      ]
    },
    {
      "cell_type": "code",
      "execution_count": null,
      "metadata": {
        "id": "TUUgIf1zIxis"
      },
      "outputs": [],
      "source": [
        "for i, element in enumerate(dataset):\n",
        "    print(element.shape)\n",
        "    if i >= 2:\n",
        "        break"
      ]
    },
    {
      "cell_type": "code",
      "execution_count": null,
      "metadata": {
        "id": "TLFF-iZlIxiv"
      },
      "outputs": [],
      "source": [
        "batched_dataset = dataset.batch(32)\n",
        "for i, element in enumerate(batched_dataset):\n",
        "    print(element.shape)\n",
        "    if i >= 2:\n",
        "        break"
      ]
    },
    {
      "cell_type": "code",
      "execution_count": null,
      "metadata": {
        "id": "odTlEqDrIxiv"
      },
      "outputs": [],
      "source": [
        "reshaped_dataset = dataset.map(lambda x: tf.reshape(x, (4, 4)))\n",
        "for i, element in enumerate(reshaped_dataset):\n",
        "    print(element.shape)\n",
        "    if i >= 2:\n",
        "        break"
      ]
    },
    {
      "cell_type": "markdown",
      "metadata": {
        "id": "nHnEe-g7Ixiv"
      },
      "source": [
        "**Displaying the shapes of the data and labels yielded by the `Dataset`**"
      ]
    },
    {
      "cell_type": "code",
      "execution_count": null,
      "metadata": {
        "id": "dz2QRWO_Ixiv"
      },
      "outputs": [],
      "source": [
        "for data_batch, labels_batch in train_dataset:\n",
        "    print(\"data batch shape:\", data_batch.shape)\n",
        "    print(\"labels batch shape:\", labels_batch.shape)\n",
        "    break"
      ]
    },
    {
      "cell_type": "markdown",
      "metadata": {
        "id": "yj5c-KaQIxiv"
      },
      "source": [
        "**Fitting the model using a `Dataset`**"
      ]
    },
    {
      "cell_type": "code",
      "execution_count": null,
      "metadata": {
        "id": "iajUsOQvIxiv"
      },
      "outputs": [],
      "source": [
        "callbacks = [\n",
        "    keras.callbacks.ModelCheckpoint(\n",
        "        filepath=\"convnet_from_scratch.keras\",\n",
        "        save_best_only=True,\n",
        "        monitor=\"val_loss\")\n",
        "]\n",
        "history = model.fit(\n",
        "    train_dataset,\n",
        "    epochs=30,\n",
        "    validation_data=validation_dataset,\n",
        "    callbacks=callbacks)"
      ]
    },
    {
      "cell_type": "markdown",
      "metadata": {
        "id": "ZJiWlZ2xIxiv"
      },
      "source": [
        "**Displaying curves of loss and accuracy during training**"
      ]
    },
    {
      "cell_type": "code",
      "execution_count": null,
      "metadata": {
        "id": "oZzDXnn8Ixiv"
      },
      "outputs": [],
      "source": [
        "import matplotlib.pyplot as plt\n",
        "accuracy = history.history[\"accuracy\"]\n",
        "val_accuracy = history.history[\"val_accuracy\"]\n",
        "loss = history.history[\"loss\"]\n",
        "val_loss = history.history[\"val_loss\"]\n",
        "epochs = range(1, len(accuracy) + 1)\n",
        "plt.plot(epochs, accuracy, \"bo\", label=\"Training accuracy\")\n",
        "plt.plot(epochs, val_accuracy, \"b\", label=\"Validation accuracy\")\n",
        "plt.title(\"Training and validation accuracy\")\n",
        "plt.legend()\n",
        "plt.figure()\n",
        "plt.plot(epochs, loss, \"bo\", label=\"Training loss\")\n",
        "plt.plot(epochs, val_loss, \"b\", label=\"Validation loss\")\n",
        "plt.title(\"Training and validation loss\")\n",
        "plt.legend()\n",
        "plt.show()"
      ]
    },
    {
      "cell_type": "markdown",
      "metadata": {
        "id": "UouVQ_rUIxiv"
      },
      "source": [
        "**Evaluating the model on the test set**"
      ]
    },
    {
      "cell_type": "code",
      "execution_count": null,
      "metadata": {
        "id": "pmLWcdJRIxiv"
      },
      "outputs": [],
      "source": [
        "test_model = keras.models.load_model(\"convnet_from_scratch.keras\")\n",
        "test_loss, test_acc = test_model.evaluate(test_dataset)\n",
        "print(f\"Test accuracy: {test_acc:.3f}\")"
      ]
    },
    {
      "cell_type": "markdown",
      "metadata": {
        "id": "Chhq_wv9Ixiv"
      },
      "source": [
        "### Using data augmentation"
      ]
    },
    {
      "cell_type": "markdown",
      "metadata": {
        "id": "0jISPGbHIxiv"
      },
      "source": [
        "**Define a data augmentation stage to add to an image model**"
      ]
    },
    {
      "cell_type": "code",
      "execution_count": null,
      "metadata": {
        "id": "UqgJdxXFIxiv"
      },
      "outputs": [],
      "source": [
        "data_augmentation = keras.Sequential(\n",
        "    [\n",
        "        layers.RandomFlip(\"horizontal\"),\n",
        "        layers.RandomRotation(0.1),\n",
        "        layers.RandomZoom(0.2),\n",
        "    ]\n",
        ")"
      ]
    },
    {
      "cell_type": "markdown",
      "metadata": {
        "id": "dVEPJQDFIxiv"
      },
      "source": [
        "**Displaying some randomly augmented training images**"
      ]
    },
    {
      "cell_type": "code",
      "execution_count": null,
      "metadata": {
        "id": "IPhIUYu-Ixiw"
      },
      "outputs": [],
      "source": [
        "plt.figure(figsize=(10, 10))\n",
        "for images, _ in train_dataset.take(1):\n",
        "    for i in range(9):\n",
        "        augmented_images = data_augmentation(images)\n",
        "        ax = plt.subplot(3, 3, i + 1)\n",
        "        plt.imshow(augmented_images[0].numpy().astype(\"uint8\"))\n",
        "        plt.axis(\"off\")"
      ]
    },
    {
      "cell_type": "markdown",
      "metadata": {
        "id": "0wjMRwSpIxix"
      },
      "source": [
        "**Defining a new convnet that includes image augmentation and dropout**"
      ]
    },
    {
      "cell_type": "code",
      "execution_count": null,
      "metadata": {
        "id": "1_u8NhtvIxix"
      },
      "outputs": [],
      "source": [
        "inputs = keras.Input(shape=(180, 180, 3))\n",
        "x = data_augmentation(inputs)\n",
        "x = layers.Rescaling(1./255)(x)\n",
        "x = layers.Conv2D(filters=32, kernel_size=3, activation=\"relu\")(x)\n",
        "x = layers.MaxPooling2D(pool_size=2)(x)\n",
        "x = layers.Conv2D(filters=64, kernel_size=3, activation=\"relu\")(x)\n",
        "x = layers.MaxPooling2D(pool_size=2)(x)\n",
        "x = layers.Conv2D(filters=128, kernel_size=3, activation=\"relu\")(x)\n",
        "x = layers.MaxPooling2D(pool_size=2)(x)\n",
        "x = layers.Conv2D(filters=256, kernel_size=3, activation=\"relu\")(x)\n",
        "x = layers.MaxPooling2D(pool_size=2)(x)\n",
        "x = layers.Conv2D(filters=256, kernel_size=3, activation=\"relu\")(x)\n",
        "x = layers.Flatten()(x)\n",
        "x = layers.Dropout(0.5)(x)\n",
        "outputs = layers.Dense(1, activation=\"sigmoid\")(x)\n",
        "model = keras.Model(inputs=inputs, outputs=outputs)\n",
        "\n",
        "model.compile(loss=\"binary_crossentropy\",\n",
        "              optimizer=\"rmsprop\",\n",
        "              metrics=[\"accuracy\"])"
      ]
    },
    {
      "cell_type": "markdown",
      "metadata": {
        "id": "nkqvsbPOIxix"
      },
      "source": [
        "**Training the regularized convnet**"
      ]
    },
    {
      "cell_type": "code",
      "execution_count": null,
      "metadata": {
        "id": "L0omwjaLIxix"
      },
      "outputs": [],
      "source": [
        "callbacks = [\n",
        "    keras.callbacks.ModelCheckpoint(\n",
        "        filepath=\"convnet_from_scratch_with_augmentation.keras\",\n",
        "        save_best_only=True,\n",
        "        monitor=\"val_loss\")\n",
        "]\n",
        "history = model.fit(\n",
        "    train_dataset,\n",
        "    epochs=100,\n",
        "    validation_data=validation_dataset,\n",
        "    callbacks=callbacks)"
      ]
    },
    {
      "cell_type": "markdown",
      "metadata": {
        "id": "v8kfj7y9Ixix"
      },
      "source": [
        "**Evaluating the model on the test set**"
      ]
    },
    {
      "cell_type": "code",
      "execution_count": null,
      "metadata": {
        "id": "P-JKRLe5Ixix"
      },
      "outputs": [],
      "source": [
        "test_model = keras.models.load_model(\n",
        "    \"convnet_from_scratch_with_augmentation.keras\")\n",
        "test_loss, test_acc = test_model.evaluate(test_dataset)\n",
        "print(f\"Test accuracy: {test_acc:.3f}\")"
      ]
    },
    {
      "cell_type": "markdown",
      "metadata": {
        "id": "fhJZaRXGIxix"
      },
      "source": [
        "## Leveraging a pretrained model"
      ]
    },
    {
      "cell_type": "markdown",
      "metadata": {
        "id": "oXgCHK-gIxix"
      },
      "source": [
        "### Feature extraction with a pretrained model"
      ]
    },
    {
      "cell_type": "markdown",
      "metadata": {
        "id": "UH3dqEG-Ixix"
      },
      "source": [
        "**Instantiating the VGG16 convolutional base**"
      ]
    },
    {
      "cell_type": "code",
      "execution_count": null,
      "metadata": {
        "id": "FfpEoEwUIxix"
      },
      "outputs": [],
      "source": [
        "conv_base = keras.applications.vgg16.VGG16(\n",
        "    weights=\"imagenet\",\n",
        "    include_top=False,\n",
        "    input_shape=(180, 180, 3))"
      ]
    },
    {
      "cell_type": "code",
      "execution_count": null,
      "metadata": {
        "id": "zmjZfCetIxix"
      },
      "outputs": [],
      "source": [
        "conv_base.summary()"
      ]
    },
    {
      "cell_type": "markdown",
      "metadata": {
        "id": "EFdJIz-_Ixix"
      },
      "source": [
        "#### Fast feature extraction without data augmentation"
      ]
    },
    {
      "cell_type": "markdown",
      "metadata": {
        "id": "MsQS1yvEIxix"
      },
      "source": [
        "**Extracting the VGG16 features and corresponding labels**"
      ]
    },
    {
      "cell_type": "code",
      "execution_count": null,
      "metadata": {
        "id": "KiZN0Ez6Ixix"
      },
      "outputs": [],
      "source": [
        "import numpy as np\n",
        "\n",
        "def get_features_and_labels(dataset):\n",
        "    all_features = []\n",
        "    all_labels = []\n",
        "    for images, labels in dataset:\n",
        "        preprocessed_images = keras.applications.vgg16.preprocess_input(images)\n",
        "        features = conv_base.predict(preprocessed_images)\n",
        "        all_features.append(features)\n",
        "        all_labels.append(labels)\n",
        "    return np.concatenate(all_features), np.concatenate(all_labels)\n",
        "\n",
        "train_features, train_labels =  get_features_and_labels(train_dataset)\n",
        "val_features, val_labels =  get_features_and_labels(validation_dataset)\n",
        "test_features, test_labels =  get_features_and_labels(test_dataset)"
      ]
    },
    {
      "cell_type": "code",
      "execution_count": null,
      "metadata": {
        "id": "_ECvOh8mIxix"
      },
      "outputs": [],
      "source": [
        "train_features.shape"
      ]
    },
    {
      "cell_type": "markdown",
      "metadata": {
        "id": "B-G5fCpoIxix"
      },
      "source": [
        "**Defining and training the densely connected classifier**"
      ]
    },
    {
      "cell_type": "code",
      "execution_count": null,
      "metadata": {
        "id": "KX5ckv1oIxix"
      },
      "outputs": [],
      "source": [
        "inputs = keras.Input(shape=(5, 5, 512))\n",
        "x = layers.Flatten()(inputs)\n",
        "x = layers.Dense(256)(x)\n",
        "x = layers.Dropout(0.5)(x)\n",
        "outputs = layers.Dense(1, activation=\"sigmoid\")(x)\n",
        "model = keras.Model(inputs, outputs)\n",
        "model.compile(loss=\"binary_crossentropy\",\n",
        "              optimizer=\"rmsprop\",\n",
        "              metrics=[\"accuracy\"])\n",
        "\n",
        "callbacks = [\n",
        "    keras.callbacks.ModelCheckpoint(\n",
        "      filepath=\"feature_extraction.keras\",\n",
        "      save_best_only=True,\n",
        "      monitor=\"val_loss\")\n",
        "]\n",
        "history = model.fit(\n",
        "    train_features, train_labels,\n",
        "    epochs=20,\n",
        "    validation_data=(val_features, val_labels),\n",
        "    callbacks=callbacks)"
      ]
    },
    {
      "cell_type": "markdown",
      "metadata": {
        "id": "AjJHwcJkIxix"
      },
      "source": [
        "**Plotting the results**"
      ]
    },
    {
      "cell_type": "code",
      "execution_count": null,
      "metadata": {
        "id": "6lcjY4t4Ixix"
      },
      "outputs": [],
      "source": [
        "import matplotlib.pyplot as plt\n",
        "acc = history.history[\"accuracy\"]\n",
        "val_acc = history.history[\"val_accuracy\"]\n",
        "loss = history.history[\"loss\"]\n",
        "val_loss = history.history[\"val_loss\"]\n",
        "epochs = range(1, len(acc) + 1)\n",
        "plt.plot(epochs, acc, \"bo\", label=\"Training accuracy\")\n",
        "plt.plot(epochs, val_acc, \"b\", label=\"Validation accuracy\")\n",
        "plt.title(\"Training and validation accuracy\")\n",
        "plt.legend()\n",
        "plt.figure()\n",
        "plt.plot(epochs, loss, \"bo\", label=\"Training loss\")\n",
        "plt.plot(epochs, val_loss, \"b\", label=\"Validation loss\")\n",
        "plt.title(\"Training and validation loss\")\n",
        "plt.legend()\n",
        "plt.show()"
      ]
    },
    {
      "cell_type": "markdown",
      "metadata": {
        "id": "8uN1KsPBIxix"
      },
      "source": [
        "#### Feature extraction together with data augmentation"
      ]
    },
    {
      "cell_type": "markdown",
      "metadata": {
        "id": "lgfj4lkzIxix"
      },
      "source": [
        "**Instantiating and freezing the VGG16 convolutional base**"
      ]
    },
    {
      "cell_type": "code",
      "execution_count": null,
      "metadata": {
        "id": "5JNkq2C3Ixix"
      },
      "outputs": [],
      "source": [
        "conv_base  = keras.applications.vgg16.VGG16(\n",
        "    weights=\"imagenet\",\n",
        "    include_top=False)\n",
        "conv_base.trainable = False"
      ]
    },
    {
      "cell_type": "markdown",
      "metadata": {
        "id": "CG7CaEQEIxix"
      },
      "source": [
        "**Printing the list of trainable weights before and after freezing**"
      ]
    },
    {
      "cell_type": "code",
      "execution_count": null,
      "metadata": {
        "id": "t2uNNsOiIxix"
      },
      "outputs": [],
      "source": [
        "conv_base.trainable = True\n",
        "print(\"This is the number of trainable weights \"\n",
        "      \"before freezing the conv base:\", len(conv_base.trainable_weights))"
      ]
    },
    {
      "cell_type": "code",
      "execution_count": null,
      "metadata": {
        "id": "lpvKZjwlIxiy"
      },
      "outputs": [],
      "source": [
        "conv_base.trainable = False\n",
        "print(\"This is the number of trainable weights \"\n",
        "      \"after freezing the conv base:\", len(conv_base.trainable_weights))"
      ]
    },
    {
      "cell_type": "markdown",
      "metadata": {
        "id": "OF1idKHPIxiy"
      },
      "source": [
        "**Adding a data augmentation stage and a classifier to the convolutional base**"
      ]
    },
    {
      "cell_type": "code",
      "execution_count": null,
      "metadata": {
        "id": "z2W36Hg8Ixiy"
      },
      "outputs": [],
      "source": [
        "data_augmentation = keras.Sequential(\n",
        "    [\n",
        "        layers.RandomFlip(\"horizontal\"),\n",
        "        layers.RandomRotation(0.1),\n",
        "        layers.RandomZoom(0.2),\n",
        "    ]\n",
        ")\n",
        "\n",
        "inputs = keras.Input(shape=(180, 180, 3))\n",
        "x = data_augmentation(inputs)\n",
        "x = keras.applications.vgg16.preprocess_input(x)\n",
        "x = conv_base(x)\n",
        "x = layers.Flatten()(x)\n",
        "x = layers.Dense(256)(x)\n",
        "x = layers.Dropout(0.5)(x)\n",
        "outputs = layers.Dense(1, activation=\"sigmoid\")(x)\n",
        "model = keras.Model(inputs, outputs)\n",
        "model.compile(loss=\"binary_crossentropy\",\n",
        "              optimizer=\"rmsprop\",\n",
        "              metrics=[\"accuracy\"])"
      ]
    },
    {
      "cell_type": "code",
      "execution_count": null,
      "metadata": {
        "id": "b_eCCnCyIxiy"
      },
      "outputs": [],
      "source": [
        "callbacks = [\n",
        "    keras.callbacks.ModelCheckpoint(\n",
        "        filepath=\"feature_extraction_with_data_augmentation.keras\",\n",
        "        save_best_only=True,\n",
        "        monitor=\"val_loss\")\n",
        "]\n",
        "history = model.fit(\n",
        "    train_dataset,\n",
        "    epochs=50,\n",
        "    validation_data=validation_dataset,\n",
        "    callbacks=callbacks)"
      ]
    },
    {
      "cell_type": "markdown",
      "metadata": {
        "id": "-qa07S1BIxiy"
      },
      "source": [
        "**Evaluating the model on the test set**"
      ]
    },
    {
      "cell_type": "code",
      "execution_count": null,
      "metadata": {
        "id": "Dk66fC7wIxiy"
      },
      "outputs": [],
      "source": [
        "test_model = keras.models.load_model(\n",
        "    \"feature_extraction_with_data_augmentation.keras\")\n",
        "test_loss, test_acc = test_model.evaluate(test_dataset)\n",
        "print(f\"Test accuracy: {test_acc:.3f}\")"
      ]
    },
    {
      "cell_type": "markdown",
      "metadata": {
        "id": "ppW35ErxIxiy"
      },
      "source": [
        "### Fine-tuning a pretrained model"
      ]
    },
    {
      "cell_type": "code",
      "execution_count": null,
      "metadata": {
        "id": "fL3DXYAHIxiy"
      },
      "outputs": [],
      "source": [
        "conv_base.summary()"
      ]
    },
    {
      "cell_type": "markdown",
      "metadata": {
        "id": "B_vdoM7GIxiy"
      },
      "source": [
        "**Freezing all layers until the fourth from the last**"
      ]
    },
    {
      "cell_type": "code",
      "execution_count": null,
      "metadata": {
        "id": "7ebZImBTIxiy"
      },
      "outputs": [],
      "source": [
        "conv_base.trainable = True\n",
        "for layer in conv_base.layers[:-4]:\n",
        "    layer.trainable = False"
      ]
    },
    {
      "cell_type": "markdown",
      "metadata": {
        "id": "_PDT2eWXIxiy"
      },
      "source": [
        "**Fine-tuning the model**"
      ]
    },
    {
      "cell_type": "code",
      "execution_count": null,
      "metadata": {
        "id": "kvFmtPeoIxiy"
      },
      "outputs": [],
      "source": [
        "model.compile(loss=\"binary_crossentropy\",\n",
        "              optimizer=keras.optimizers.RMSprop(learning_rate=1e-5),\n",
        "              metrics=[\"accuracy\"])\n",
        "\n",
        "callbacks = [\n",
        "    keras.callbacks.ModelCheckpoint(\n",
        "        filepath=\"fine_tuning.keras\",\n",
        "        save_best_only=True,\n",
        "        monitor=\"val_loss\")\n",
        "]\n",
        "history = model.fit(\n",
        "    train_dataset,\n",
        "    epochs=30,\n",
        "    validation_data=validation_dataset,\n",
        "    callbacks=callbacks)"
      ]
    },
    {
      "cell_type": "code",
      "execution_count": null,
      "metadata": {
        "id": "dz06gkraIxiy"
      },
      "outputs": [],
      "source": [
        "model = keras.models.load_model(\"fine_tuning.keras\")\n",
        "test_loss, test_acc = model.evaluate(test_dataset)\n",
        "print(f\"Test accuracy: {test_acc:.3f}\")"
      ]
    },
    {
      "cell_type": "markdown",
      "metadata": {
        "id": "n9L-ybszIxiy"
      },
      "source": [
        "## Summary"
      ]
    }
  ],
  "metadata": {
    "colab": {
      "name": "chapter08_intro-to-dl-for-computer-vision.i",
      "provenance": [],
      "toc_visible": true,
      "include_colab_link": true
    },
    "kernelspec": {
      "display_name": "Python 3",
      "language": "python",
      "name": "python3"
    },
    "language_info": {
      "codemirror_mode": {
        "name": "ipython",
        "version": 3
      },
      "file_extension": ".py",
      "mimetype": "text/x-python",
      "name": "python",
      "nbconvert_exporter": "python",
      "pygments_lexer": "ipython3",
      "version": "3.7.0"
    }
  },
  "nbformat": 4,
  "nbformat_minor": 0
}